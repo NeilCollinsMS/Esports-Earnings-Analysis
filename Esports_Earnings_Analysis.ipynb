{
  "nbformat": 4,
  "nbformat_minor": 0,
  "metadata": {
    "colab": {
      "name": "Esports Earnings Analysis.ipynb",
      "provenance": [],
      "authorship_tag": "ABX9TyMiOShYFOJIfJzIc8uFpi5F",
      "include_colab_link": true
    },
    "kernelspec": {
      "name": "python3",
      "display_name": "Python 3"
    },
    "language_info": {
      "name": "python"
    }
  },
  "cells": [
    {
      "cell_type": "markdown",
      "metadata": {
        "id": "view-in-github",
        "colab_type": "text"
      },
      "source": [
        "<a href=\"https://colab.research.google.com/github/NeilCollinsMS/Esports-Earnings-Analysis/blob/main/Esports_Earnings_Analysis.ipynb\" target=\"_parent\"><img src=\"https://colab.research.google.com/assets/colab-badge.svg\" alt=\"Open In Colab\"/></a>"
      ]
    },
    {
      "cell_type": "markdown",
      "metadata": {
        "id": "E7txazEHBhC4"
      },
      "source": [
        "**Esports Earnings Analysis**"
      ]
    },
    {
      "cell_type": "code",
      "metadata": {
        "id": "JuaD16tO4tQz"
      },
      "source": [
        "import pandas as pd\n",
        "import numpy as np\n",
        "import os\n",
        "import io\n",
        "from google.colab import drive\n",
        "from google.colab import files"
      ],
      "execution_count": 1,
      "outputs": []
    },
    {
      "cell_type": "code",
      "metadata": {
        "colab": {
          "base_uri": "https://localhost:8080/"
        },
        "id": "bPubd-XNBfsO",
        "outputId": "cb3214c0-44e0-43cd-884c-5339ca760423"
      },
      "source": [
        "drive.mount('/content/drive')\n",
        "os.chdir(\"drive/My Drive\")"
      ],
      "execution_count": 10,
      "outputs": [
        {
          "output_type": "stream",
          "text": [
            "Drive already mounted at /content/drive; to attempt to forcibly remount, call drive.mount(\"/content/drive\", force_remount=True).\n"
          ],
          "name": "stdout"
        }
      ]
    },
    {
      "cell_type": "code",
      "metadata": {
        "colab": {
          "base_uri": "https://localhost:8080/",
          "height": 35
        },
        "id": "QyCXXdO6B_Il",
        "outputId": "ede31e5d-be68-4203-c1bf-e489a44824ad"
      },
      "source": [
        "os.getcwd()"
      ],
      "execution_count": 11,
      "outputs": [
        {
          "output_type": "execute_result",
          "data": {
            "application/vnd.google.colaboratory.intrinsic+json": {
              "type": "string"
            },
            "text/plain": [
              "'/content/drive/My Drive'"
            ]
          },
          "metadata": {
            "tags": []
          },
          "execution_count": 11
        }
      ]
    },
    {
      "cell_type": "code",
      "metadata": {
        "id": "DNU_S39zCjta"
      },
      "source": [
        "high_earning_players = pd.read_csv('highest_earning_players.csv', error_bad_lines=False, index_col=False, dtype='unicode')\n",
        "high_earning_teams = pd.read_csv('highest_earning_teams.csv', error_bad_lines=False, index_col=False, dtype='unicode')\n",
        "locations = pd.read_csv('country-and-continent-codes-list.csv', error_bad_lines=False, index_col=False, dtype='unicode')"
      ],
      "execution_count": 15,
      "outputs": []
    },
    {
      "cell_type": "code",
      "metadata": {
        "colab": {
          "base_uri": "https://localhost:8080/",
          "height": 565
        },
        "id": "aaBcPD9nEg68",
        "outputId": "c92b790b-ba2a-491d-de9e-9352f55b8403"
      },
      "source": [
        "display(high_earning_players.head())\n",
        "display(high_earning_teams.head())\n",
        "display(locations.head())"
      ],
      "execution_count": 19,
      "outputs": [
        {
          "output_type": "display_data",
          "data": {
            "text/html": [
              "<div>\n",
              "<style scoped>\n",
              "    .dataframe tbody tr th:only-of-type {\n",
              "        vertical-align: middle;\n",
              "    }\n",
              "\n",
              "    .dataframe tbody tr th {\n",
              "        vertical-align: top;\n",
              "    }\n",
              "\n",
              "    .dataframe thead th {\n",
              "        text-align: right;\n",
              "    }\n",
              "</style>\n",
              "<table border=\"1\" class=\"dataframe\">\n",
              "  <thead>\n",
              "    <tr style=\"text-align: right;\">\n",
              "      <th></th>\n",
              "      <th>PlayerId</th>\n",
              "      <th>NameFirst</th>\n",
              "      <th>NameLast</th>\n",
              "      <th>CurrentHandle</th>\n",
              "      <th>CountryCode</th>\n",
              "      <th>TotalUSDPrize</th>\n",
              "      <th>Game</th>\n",
              "      <th>Genre</th>\n",
              "    </tr>\n",
              "  </thead>\n",
              "  <tbody>\n",
              "    <tr>\n",
              "      <th>0</th>\n",
              "      <td>3883</td>\n",
              "      <td>Peter</td>\n",
              "      <td>Rasmussen</td>\n",
              "      <td>dupreeh</td>\n",
              "      <td>dk</td>\n",
              "      <td>1822989.41</td>\n",
              "      <td>Counter-Strike: Global Offensive</td>\n",
              "      <td>First-Person Shooter</td>\n",
              "    </tr>\n",
              "    <tr>\n",
              "      <th>1</th>\n",
              "      <td>3679</td>\n",
              "      <td>Andreas</td>\n",
              "      <td>Højsleth</td>\n",
              "      <td>Xyp9x</td>\n",
              "      <td>dk</td>\n",
              "      <td>1799288.57</td>\n",
              "      <td>Counter-Strike: Global Offensive</td>\n",
              "      <td>First-Person Shooter</td>\n",
              "    </tr>\n",
              "    <tr>\n",
              "      <th>2</th>\n",
              "      <td>3885</td>\n",
              "      <td>Nicolai</td>\n",
              "      <td>Reedtz</td>\n",
              "      <td>dev1ce</td>\n",
              "      <td>dk</td>\n",
              "      <td>1787489.88</td>\n",
              "      <td>Counter-Strike: Global Offensive</td>\n",
              "      <td>First-Person Shooter</td>\n",
              "    </tr>\n",
              "    <tr>\n",
              "      <th>3</th>\n",
              "      <td>3672</td>\n",
              "      <td>Lukas</td>\n",
              "      <td>Rossander</td>\n",
              "      <td>gla1ve</td>\n",
              "      <td>dk</td>\n",
              "      <td>1652350.75</td>\n",
              "      <td>Counter-Strike: Global Offensive</td>\n",
              "      <td>First-Person Shooter</td>\n",
              "    </tr>\n",
              "    <tr>\n",
              "      <th>4</th>\n",
              "      <td>17800</td>\n",
              "      <td>Emil</td>\n",
              "      <td>Reif</td>\n",
              "      <td>Magisk</td>\n",
              "      <td>dk</td>\n",
              "      <td>1416448.64</td>\n",
              "      <td>Counter-Strike: Global Offensive</td>\n",
              "      <td>First-Person Shooter</td>\n",
              "    </tr>\n",
              "  </tbody>\n",
              "</table>\n",
              "</div>"
            ],
            "text/plain": [
              "  PlayerId NameFirst  ...                              Game                 Genre\n",
              "0     3883     Peter  ...  Counter-Strike: Global Offensive  First-Person Shooter\n",
              "1     3679   Andreas  ...  Counter-Strike: Global Offensive  First-Person Shooter\n",
              "2     3885   Nicolai  ...  Counter-Strike: Global Offensive  First-Person Shooter\n",
              "3     3672     Lukas  ...  Counter-Strike: Global Offensive  First-Person Shooter\n",
              "4    17800      Emil  ...  Counter-Strike: Global Offensive  First-Person Shooter\n",
              "\n",
              "[5 rows x 8 columns]"
            ]
          },
          "metadata": {
            "tags": []
          }
        },
        {
          "output_type": "display_data",
          "data": {
            "text/html": [
              "<div>\n",
              "<style scoped>\n",
              "    .dataframe tbody tr th:only-of-type {\n",
              "        vertical-align: middle;\n",
              "    }\n",
              "\n",
              "    .dataframe tbody tr th {\n",
              "        vertical-align: top;\n",
              "    }\n",
              "\n",
              "    .dataframe thead th {\n",
              "        text-align: right;\n",
              "    }\n",
              "</style>\n",
              "<table border=\"1\" class=\"dataframe\">\n",
              "  <thead>\n",
              "    <tr style=\"text-align: right;\">\n",
              "      <th></th>\n",
              "      <th>TeamId</th>\n",
              "      <th>TeamName</th>\n",
              "      <th>TotalUSDPrize</th>\n",
              "      <th>TotalTournaments</th>\n",
              "      <th>Game</th>\n",
              "      <th>Genre</th>\n",
              "    </tr>\n",
              "  </thead>\n",
              "  <tbody>\n",
              "    <tr>\n",
              "      <th>0</th>\n",
              "      <td>760</td>\n",
              "      <td>San Francisco Shock</td>\n",
              "      <td>3105000</td>\n",
              "      <td>7</td>\n",
              "      <td>Overwatch</td>\n",
              "      <td>First-Person Shooter</td>\n",
              "    </tr>\n",
              "    <tr>\n",
              "      <th>1</th>\n",
              "      <td>776</td>\n",
              "      <td>London Spitfire</td>\n",
              "      <td>1591136.5</td>\n",
              "      <td>13</td>\n",
              "      <td>Overwatch</td>\n",
              "      <td>First-Person Shooter</td>\n",
              "    </tr>\n",
              "    <tr>\n",
              "      <th>2</th>\n",
              "      <td>768</td>\n",
              "      <td>New York Excelsior</td>\n",
              "      <td>1572618.5</td>\n",
              "      <td>18</td>\n",
              "      <td>Overwatch</td>\n",
              "      <td>First-Person Shooter</td>\n",
              "    </tr>\n",
              "    <tr>\n",
              "      <th>3</th>\n",
              "      <td>773</td>\n",
              "      <td>Philadelphia Fusion</td>\n",
              "      <td>1186278.5</td>\n",
              "      <td>15</td>\n",
              "      <td>Overwatch</td>\n",
              "      <td>First-Person Shooter</td>\n",
              "    </tr>\n",
              "    <tr>\n",
              "      <th>4</th>\n",
              "      <td>766</td>\n",
              "      <td>Seoul Dynasty</td>\n",
              "      <td>1130000</td>\n",
              "      <td>6</td>\n",
              "      <td>Overwatch</td>\n",
              "      <td>First-Person Shooter</td>\n",
              "    </tr>\n",
              "  </tbody>\n",
              "</table>\n",
              "</div>"
            ],
            "text/plain": [
              "  TeamId             TeamName  ...       Game                 Genre\n",
              "0    760  San Francisco Shock  ...  Overwatch  First-Person Shooter\n",
              "1    776      London Spitfire  ...  Overwatch  First-Person Shooter\n",
              "2    768   New York Excelsior  ...  Overwatch  First-Person Shooter\n",
              "3    773  Philadelphia Fusion  ...  Overwatch  First-Person Shooter\n",
              "4    766        Seoul Dynasty  ...  Overwatch  First-Person Shooter\n",
              "\n",
              "[5 rows x 6 columns]"
            ]
          },
          "metadata": {
            "tags": []
          }
        },
        {
          "output_type": "display_data",
          "data": {
            "text/html": [
              "<div>\n",
              "<style scoped>\n",
              "    .dataframe tbody tr th:only-of-type {\n",
              "        vertical-align: middle;\n",
              "    }\n",
              "\n",
              "    .dataframe tbody tr th {\n",
              "        vertical-align: top;\n",
              "    }\n",
              "\n",
              "    .dataframe thead th {\n",
              "        text-align: right;\n",
              "    }\n",
              "</style>\n",
              "<table border=\"1\" class=\"dataframe\">\n",
              "  <thead>\n",
              "    <tr style=\"text-align: right;\">\n",
              "      <th></th>\n",
              "      <th>Continent_Name</th>\n",
              "      <th>Continent_Code</th>\n",
              "      <th>Country_Name</th>\n",
              "      <th>Two_Letter_Country_Code</th>\n",
              "      <th>Three_Letter_Country_Code</th>\n",
              "      <th>Country_Number</th>\n",
              "    </tr>\n",
              "  </thead>\n",
              "  <tbody>\n",
              "    <tr>\n",
              "      <th>0</th>\n",
              "      <td>Asia</td>\n",
              "      <td>AS</td>\n",
              "      <td>Afghanistan, Islamic Republic of</td>\n",
              "      <td>AF</td>\n",
              "      <td>AFG</td>\n",
              "      <td>4</td>\n",
              "    </tr>\n",
              "    <tr>\n",
              "      <th>1</th>\n",
              "      <td>Europe</td>\n",
              "      <td>EU</td>\n",
              "      <td>Albania, Republic of</td>\n",
              "      <td>AL</td>\n",
              "      <td>ALB</td>\n",
              "      <td>8</td>\n",
              "    </tr>\n",
              "    <tr>\n",
              "      <th>2</th>\n",
              "      <td>Antarctica</td>\n",
              "      <td>AN</td>\n",
              "      <td>Antarctica (the territory South of 60 deg S)</td>\n",
              "      <td>AQ</td>\n",
              "      <td>ATA</td>\n",
              "      <td>10</td>\n",
              "    </tr>\n",
              "    <tr>\n",
              "      <th>3</th>\n",
              "      <td>Africa</td>\n",
              "      <td>AF</td>\n",
              "      <td>Algeria, People's Democratic Republic of</td>\n",
              "      <td>DZ</td>\n",
              "      <td>DZA</td>\n",
              "      <td>12</td>\n",
              "    </tr>\n",
              "    <tr>\n",
              "      <th>4</th>\n",
              "      <td>Oceania</td>\n",
              "      <td>OC</td>\n",
              "      <td>American Samoa</td>\n",
              "      <td>AS</td>\n",
              "      <td>ASM</td>\n",
              "      <td>16</td>\n",
              "    </tr>\n",
              "  </tbody>\n",
              "</table>\n",
              "</div>"
            ],
            "text/plain": [
              "  Continent_Name Continent_Code  ... Three_Letter_Country_Code Country_Number\n",
              "0           Asia             AS  ...                       AFG              4\n",
              "1         Europe             EU  ...                       ALB              8\n",
              "2     Antarctica             AN  ...                       ATA             10\n",
              "3         Africa             AF  ...                       DZA             12\n",
              "4        Oceania             OC  ...                       ASM             16\n",
              "\n",
              "[5 rows x 6 columns]"
            ]
          },
          "metadata": {
            "tags": []
          }
        }
      ]
    },
    {
      "cell_type": "code",
      "metadata": {
        "id": "BwEt81ApEhFP"
      },
      "source": [
        ""
      ],
      "execution_count": null,
      "outputs": []
    },
    {
      "cell_type": "code",
      "metadata": {
        "id": "sDA1YmX3EhHm"
      },
      "source": [
        ""
      ],
      "execution_count": null,
      "outputs": []
    }
  ]
}